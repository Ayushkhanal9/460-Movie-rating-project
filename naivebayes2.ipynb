{
 "cells": [
  {
   "cell_type": "code",
   "execution_count": 1,
   "metadata": {},
   "outputs": [
    {
     "name": "stdout",
     "output_type": "stream",
     "text": [
      "Error converting 'review_score' to percentages: Invalid literal for Fraction: 'review_score'\n",
      "Rows with invalid 'review_score':\n",
      "        review_score                                     review_content\n",
      "0       review_score                                     review_content\n",
      "1              3.5/5  Percy Jackson isn't a great movie, but it's a ...\n",
      "2                3/5  Crammed with dragons, set-destroying fights an...\n",
      "3                2/4  For what it is and for whom it is intended, it...\n",
      "4                2/5  Chris Columbus returns to his comfort zone for...\n",
      "...              ...                                                ...\n",
      "152300           4/5  There's a magical moment in every movie of qua...\n",
      "152301           4/5  One of the film's great strengths is the trust...\n",
      "152302           4/5  The film feels like a riposte to Trump-ism. It...\n",
      "152303           4/5  The genius of the film lies in its combination...\n",
      "152304         2.5/4  Students of such things in movies should appre...\n",
      "\n",
      "[152218 rows x 2 columns]\n",
      "\n",
      "Accuracy on the test set: 0.00%\n",
      "\n",
      "Test Data with Predicted Ratings:\n",
      "       review_score                                   predicted_rating  \\\n",
      "7878            3/4  4/54/54/54/54/54/54/54/54/54/54/54/54/54/54/54...   \n",
      "52863           4/5  3/53/53/53/53/53/53/53/53/53/53/53/53/53/53/53...   \n",
      "90342           4/5  4/54/54/54/54/54/54/54/54/54/54/54/54/54/54/54...   \n",
      "5241            4/5  3/43/43/43/43/43/43/43/43/43/43/43/43/43/43/43...   \n",
      "112072          3/5  3/53/53/53/53/53/53/53/53/53/53/53/53/53/53/53...   \n",
      "\n",
      "                                           review_content  \n",
      "7878    fernando meirelles awkward repulsive yet richl...  \n",
      "52863   though movie sounds perilously twee griff invi...  \n",
      "90342                       bike road compulsion go go go  \n",
      "5241    way roundelay partners functions interplay wit...  \n",
      "112072  yes film rock wikipedias drug cartels somehow ...  \n"
     ]
    }
   ],
   "source": [
    "from fractions import Fraction\n",
    "import pandas as pd\n",
    "from sklearn.feature_extraction.text import TfidfVectorizer\n",
    "from sklearn.naive_bayes import MultinomialNB\n",
    "from sklearn.model_selection import train_test_split\n",
    "from sklearn.metrics import accuracy_score\n",
    "from nltk.tokenize import word_tokenize\n",
    "from nltk.corpus import stopwords\n",
    "\n",
    "# Read the CSV file\n",
    "movieReviews = pd.read_csv('cleaned_reviews.csv', sep=',', header=None, names=['review_score', 'review_content'])\n",
    "\n",
    "# Preprocess the data\n",
    "try:\n",
    "    # Convert decimal strings to percentages\n",
    "    movieReviews['review_score'] = movieReviews['review_score'].apply(lambda x: Fraction(x) * 100)\n",
    "except ValueError as e:\n",
    "    print(f\"Error converting 'review_score' to percentages: {e}\")\n",
    "    print(\"Rows with invalid 'review_score':\")\n",
    "    print(movieReviews[pd.to_numeric(movieReviews['review_score'], errors='coerce').isnull()])\n",
    "\n",
    "# Tokenize and remove stopwords\n",
    "stopwords_list = set(stopwords.words('english'))\n",
    "movieReviews['review_content'] = movieReviews['review_content'].apply(\n",
    "    lambda x: ' '.join([word.lower() for word in word_tokenize(x) if word.isalpha() and word.lower() not in stopwords_list])\n",
    ")\n",
    "\n",
    "# Drop rows with NaN values in 'review_score'\n",
    "movieReviews = movieReviews.dropna(subset=['review_score'])\n",
    "\n",
    "# Train-test split\n",
    "train_data, test_data = train_test_split(movieReviews, test_size=0.1, random_state=42)\n",
    "\n",
    "# Use TF-IDF vectorizer\n",
    "vectorizer = TfidfVectorizer()\n",
    "X_train = vectorizer.fit_transform(train_data['review_content'])\n",
    "X_test = vectorizer.transform(test_data['review_content'])\n",
    "\n",
    "# Train a Multinomial Naive Bayes classifier\n",
    "clf = MultinomialNB(alpha=0.06)\n",
    "clf.fit(X_train, train_data['review_score'])\n",
    "\n",
    "# Make predictions on the test set\n",
    "test_data['predicted_rating'] = clf.predict(X_test)\n",
    "\n",
    "# Convert 'predicted_rating' to percentages\n",
    "test_data['predicted_rating'] = test_data['predicted_rating'] * 100\n",
    "\n",
    "# Evaluate the accuracy\n",
    "accuracy = accuracy_score(test_data['review_score'], test_data['predicted_rating'])\n",
    "print(f\"\\nAccuracy on the test set: {accuracy:.2%}\")\n",
    "\n",
    "# Display the first few rows of the test set with predictions\n",
    "print(\"\\nTest Data with Predicted Ratings:\")\n",
    "print(test_data[['review_score', 'predicted_rating', 'review_content']].head())\n",
    "\n",
    "\n"
   ]
  }
 ],
 "metadata": {
  "kernelspec": {
   "display_name": "Python 3.9.7 64-bit ('anaconda3')",
   "language": "python",
   "name": "python3"
  },
  "language_info": {
   "codemirror_mode": {
    "name": "ipython",
    "version": 3
   },
   "file_extension": ".py",
   "mimetype": "text/x-python",
   "name": "python",
   "nbconvert_exporter": "python",
   "pygments_lexer": "ipython3",
   "version": "3.9.7"
  },
  "orig_nbformat": 4,
  "vscode": {
   "interpreter": {
    "hash": "0ece4465a08f69491abc0e89a8acae8a5cbd3fdd81535f85054181bb0ae7c3e6"
   }
  }
 },
 "nbformat": 4,
 "nbformat_minor": 2
}
