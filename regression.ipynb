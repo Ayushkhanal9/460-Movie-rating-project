{
 "cells": [
  {
   "cell_type": "code",
   "execution_count": 37,
   "metadata": {},
   "outputs": [],
   "source": [
    "#imports\n",
    "import seaborn as sea\n",
    "import matplotlib.pyplot as plt\n",
    "import pandas as pd\n",
    "from fractions import Fraction\n",
    "from io import StringIO\n",
    "from collections import Counter\n",
    "\n",
    "import nltk\n",
    "from nltk.tokenize import word_tokenize\n",
    "from nltk.corpus import stopwords\n",
    "\n",
    "import sklearn\n",
    "from sklearn.model_selection import train_test_split\n",
    "from sklearn.metrics import (accuracy_score, classification_report, confusion_matrix)\n",
    "from sklearn.linear_model import LogisticRegression"
   ]
  },
  {
   "cell_type": "code",
   "execution_count": 38,
   "metadata": {},
   "outputs": [
    {
     "name": "stdout",
     "output_type": "stream",
     "text": [
      "0\n",
      "(109542, 2)\n"
     ]
    },
    {
     "data": {
      "text/html": [
       "<div>\n",
       "<style scoped>\n",
       "    .dataframe tbody tr th:only-of-type {\n",
       "        vertical-align: middle;\n",
       "    }\n",
       "\n",
       "    .dataframe tbody tr th {\n",
       "        vertical-align: top;\n",
       "    }\n",
       "\n",
       "    .dataframe thead th {\n",
       "        text-align: right;\n",
       "    }\n",
       "</style>\n",
       "<table border=\"1\" class=\"dataframe\">\n",
       "  <thead>\n",
       "    <tr style=\"text-align: right;\">\n",
       "      <th></th>\n",
       "      <th>review_score</th>\n",
       "      <th>review_content</th>\n",
       "    </tr>\n",
       "  </thead>\n",
       "  <tbody>\n",
       "    <tr>\n",
       "      <th>2</th>\n",
       "      <td>3/5</td>\n",
       "      <td>Crammed with dragons, set-destroying fights an...</td>\n",
       "    </tr>\n",
       "    <tr>\n",
       "      <th>3</th>\n",
       "      <td>2/4</td>\n",
       "      <td>For what it is and for whom it is intended, it...</td>\n",
       "    </tr>\n",
       "    <tr>\n",
       "      <th>4</th>\n",
       "      <td>2/5</td>\n",
       "      <td>Chris Columbus returns to his comfort zone for...</td>\n",
       "    </tr>\n",
       "    <tr>\n",
       "      <th>5</th>\n",
       "      <td>2/5</td>\n",
       "      <td>Although the standard allegorical bases for my...</td>\n",
       "    </tr>\n",
       "    <tr>\n",
       "      <th>6</th>\n",
       "      <td>3/5</td>\n",
       "      <td>You don't even have to be familiar with the fi...</td>\n",
       "    </tr>\n",
       "  </tbody>\n",
       "</table>\n",
       "</div>"
      ],
      "text/plain": [
       "  review_score                                     review_content\n",
       "2          3/5  Crammed with dragons, set-destroying fights an...\n",
       "3          2/4  For what it is and for whom it is intended, it...\n",
       "4          2/5  Chris Columbus returns to his comfort zone for...\n",
       "5          2/5  Although the standard allegorical bases for my...\n",
       "6          3/5  You don't even have to be familiar with the fi..."
      ]
     },
     "execution_count": 38,
     "metadata": {},
     "output_type": "execute_result"
    }
   ],
   "source": [
    "movieReviews = pd.read_csv('dataprep/cleaned_reviews.csv', sep = ',', header = None, names = ['review_score', 'review_content'])\n",
    "movieReviews = movieReviews[~movieReviews['review_score'].str.contains('\\.')]\n",
    "print(movieReviews['review_content'].isnull().sum())\n",
    "movieReviews = movieReviews.drop(0)\n",
    "print (movieReviews.shape)\n",
    "movieReviews.head()\n"
   ]
  },
  {
   "cell_type": "code",
   "execution_count": 39,
   "metadata": {},
   "outputs": [
    {
     "data": {
      "text/html": [
       "<div>\n",
       "<style scoped>\n",
       "    .dataframe tbody tr th:only-of-type {\n",
       "        vertical-align: middle;\n",
       "    }\n",
       "\n",
       "    .dataframe tbody tr th {\n",
       "        vertical-align: top;\n",
       "    }\n",
       "\n",
       "    .dataframe thead th {\n",
       "        text-align: right;\n",
       "    }\n",
       "</style>\n",
       "<table border=\"1\" class=\"dataframe\">\n",
       "  <thead>\n",
       "    <tr style=\"text-align: right;\">\n",
       "      <th></th>\n",
       "      <th>review_score</th>\n",
       "      <th>review_content</th>\n",
       "      <th>review_score_percentage</th>\n",
       "    </tr>\n",
       "  </thead>\n",
       "  <tbody>\n",
       "    <tr>\n",
       "      <th>2</th>\n",
       "      <td>3/5</td>\n",
       "      <td>Crammed with dragons, set-destroying fights an...</td>\n",
       "      <td>60</td>\n",
       "    </tr>\n",
       "    <tr>\n",
       "      <th>3</th>\n",
       "      <td>1/2</td>\n",
       "      <td>For what it is and for whom it is intended, it...</td>\n",
       "      <td>50</td>\n",
       "    </tr>\n",
       "    <tr>\n",
       "      <th>4</th>\n",
       "      <td>2/5</td>\n",
       "      <td>Chris Columbus returns to his comfort zone for...</td>\n",
       "      <td>40</td>\n",
       "    </tr>\n",
       "    <tr>\n",
       "      <th>5</th>\n",
       "      <td>2/5</td>\n",
       "      <td>Although the standard allegorical bases for my...</td>\n",
       "      <td>40</td>\n",
       "    </tr>\n",
       "    <tr>\n",
       "      <th>6</th>\n",
       "      <td>3/5</td>\n",
       "      <td>You don't even have to be familiar with the fi...</td>\n",
       "      <td>60</td>\n",
       "    </tr>\n",
       "  </tbody>\n",
       "</table>\n",
       "</div>"
      ],
      "text/plain": [
       "  review_score                                     review_content  \\\n",
       "2          3/5  Crammed with dragons, set-destroying fights an...   \n",
       "3          1/2  For what it is and for whom it is intended, it...   \n",
       "4          2/5  Chris Columbus returns to his comfort zone for...   \n",
       "5          2/5  Although the standard allegorical bases for my...   \n",
       "6          3/5  You don't even have to be familiar with the fi...   \n",
       "\n",
       "  review_score_percentage  \n",
       "2                      60  \n",
       "3                      50  \n",
       "4                      40  \n",
       "5                      40  \n",
       "6                      60  "
      ]
     },
     "execution_count": 39,
     "metadata": {},
     "output_type": "execute_result"
    }
   ],
   "source": [
    "# turn fractions into percentages\n",
    "\n",
    "# Convert decimal strings to fractions\n",
    "movieReviews['review_score'] = movieReviews['review_score'].apply(lambda x: Fraction(x))\n",
    "\n",
    "# Convert fractions to percentages\n",
    "movieReviews['review_score_percentage'] = movieReviews['review_score'] * 100\n",
    "\n",
    "movieReviews.head()"
   ]
  },
  {
   "cell_type": "code",
   "execution_count": 40,
   "metadata": {},
   "outputs": [
    {
     "name": "stderr",
     "output_type": "stream",
     "text": [
      "[nltk_data] Downloading package punkt to\n",
      "[nltk_data]     /Users/sydneychapman/nltk_data...\n",
      "[nltk_data]   Package punkt is already up-to-date!\n"
     ]
    },
    {
     "data": {
      "text/plain": [
       "True"
      ]
     },
     "execution_count": 40,
     "metadata": {},
     "output_type": "execute_result"
    }
   ],
   "source": [
    "# Define bins and labels\n",
    "bins = [19, 39, 59, 79, 99, 120]\n",
    "labels = [1, 2, 3, 4, 5]\n",
    "\n",
    "# Create a new column 'review_label' based on the specified ranges\n",
    "movieReviews['review_label'] = pd.cut(movieReviews['review_score_percentage'], bins=bins, labels=labels, include_lowest=True)\n",
    "\n",
    "\n",
    "movieReviews.head()\n",
    "\n",
    "nltk.download('punkt')"
   ]
  },
  {
   "cell_type": "code",
   "execution_count": 41,
   "metadata": {},
   "outputs": [
    {
     "name": "stdout",
     "output_type": "stream",
     "text": [
      "Training Data Label Distribution:\n",
      "review_label\n",
      "3    0.398019\n",
      "2    0.292639\n",
      "4    0.129269\n",
      "1    0.099587\n",
      "5    0.080486\n",
      "Name: proportion, dtype: float64\n",
      "\n",
      "Test Data Label Distribution:\n",
      "review_label\n",
      "3    0.392350\n",
      "2    0.294839\n",
      "4    0.129954\n",
      "1    0.100553\n",
      "5    0.082304\n",
      "Name: proportion, dtype: float64\n"
     ]
    }
   ],
   "source": [
    "#finding the top 50 words for each rating\n",
    "\n",
    "# Function to preprocess text (tokenization, lowercase, and removing stopwords)\n",
    "def preprocess_text(text):\n",
    "    stop_words = set(stopwords.words('english'))\n",
    "    words = word_tokenize(text)\n",
    "    words = [word.lower() for word in words if word.isalpha() and word.lower() not in stop_words]\n",
    "    return words\n",
    "\n",
    "train_data, test_data = train_test_split(movieReviews, test_size=0.1, random_state=42)\n",
    "\n",
    "# Display label distribution in training and test sets\n",
    "print(\"Training Data Label Distribution:\")\n",
    "print(train_data['review_label'].value_counts(normalize=True))\n",
    "\n",
    "print(\"\\nTest Data Label Distribution:\")\n",
    "print(test_data['review_label'].value_counts(normalize=True))\n",
    "\n",
    "# Get rid of punctuation and convert text to lowercase\n",
    "def preprocess_text(text):\n",
    "    text = text.str.replace('\\W', ' ')  # Removes punctuation\n",
    "    text = text.str.lower()  # Converts text to lowercase\n",
    "    return text\n",
    "\n",
    "train_data['review_content'] = preprocess_text(train_data['review_content'])\n",
    "test_data['review_content'] = preprocess_text(test_data['review_content'])\n",
    "\n",
    "# Tokenize and build vocabulary\n",
    "all_words = ' '.join(train_data['review_content'])\n",
    "all_words = word_tokenize(all_words)\n",
    "vocabulary = set(all_words)"
   ]
  },
  {
   "cell_type": "code",
   "execution_count": 42,
   "metadata": {},
   "outputs": [],
   "source": [
    "from collections import Counter\n",
    "#Logistic regression parameters\n",
    "alpha = .06\n",
    "\n",
    "# Initiate parameters\n",
    "lr_parameters_per_rating = {rating: Counter() for rating in range(1, 6)} # logistic regression per rating\n",
    "\n",
    "\n",
    "\n",
    "for rating in range(1, 6):\n",
    "    rating_data = train_data[train_data['review_label'] == rating]['review_content']\n",
    "    n_rating = len(rating_data)\n",
    "    \n",
    "    # Count occurrences of each word in the entire column\n",
    "    word_counts = Counter(' '.join(rating_data).split())\n",
    "    \n",
    "    for word in vocabulary:\n",
    "        n_word_given_rating = word_counts[word]\n",
    "        p_word_given_rating = (n_word_given_rating + alpha) / (n_rating + alpha * len(vocabulary))\n",
    "        lr_parameters_per_rating[rating][word] = p_word_given_rating"
   ]
  },
  {
   "cell_type": "code",
   "execution_count": 43,
   "metadata": {},
   "outputs": [
    {
     "name": "stdout",
     "output_type": "stream",
     "text": [
      "\n",
      "Logistic Regression Accuracy on the test set: 50.88%\n",
      "\n",
      "Test Data with Predicted Ratings:\n",
      "       review_label  lr_predicted_rating  \\\n",
      "12419             3                    2   \n",
      "111736            3                    3   \n",
      "144623            3                    2   \n",
      "105747            3                    2   \n",
      "68003             2                    4   \n",
      "\n",
      "                                           review_content  \n",
      "12419   call it quirky or observational or shaggy, but...  \n",
      "111736  there will never be another marilyn monroe or ...  \n",
      "144623  is it a pointed cultural take or just a gleefu...  \n",
      "105747  the twist itself particularly original. the wa...  \n",
      "68003   by dint of its on-screen talent, \"laggies\" qua...  \n"
     ]
    }
   ],
   "source": [
    "# Logistic Regression classifier\n",
    "def lr_predict_rating(review, parameters, n_rating):\n",
    "    words = word_tokenize(review)\n",
    "    \n",
    "    # Initialize probabilities with prior probabilities\n",
    "    probabilities = {rating: 1 for rating in parameters.keys()}\n",
    "    \n",
    "    for word in words:\n",
    "        for rating, word_params in parameters.items():\n",
    "            p_word_given_rating = word_params.get(word, 1 / (n_rating + alpha * len(vocabulary)))\n",
    "            probabilities[rating] *= p_word_given_rating\n",
    "    \n",
    "    # Choose the rating with the highest probability\n",
    "    predicted_rating = max(probabilities, key=probabilities.get)\n",
    "    return predicted_rating\n",
    "\n",
    "# Predict Logistic Regression ratings on the test set\n",
    "test_data['lr_predicted_rating'] = test_data['review_content'].apply(lambda x: lr_predict_rating(x, lr_parameters_per_rating, len(train_data)))\n",
    "\n",
    "# Remove rows with NaN values in 'review_label'\n",
    "test_data = test_data.dropna(subset=['review_label', 'lr_predicted_rating'])\n",
    "\n",
    "# Evaluate the Logistic Regression accuracy\n",
    "lr_accuracy = accuracy_score(test_data['review_label'], test_data['lr_predicted_rating'])\n",
    "print(f\"\\nLogistic Regression Accuracy on the test set: {lr_accuracy:.2%}\")\n",
    "\n",
    "# Display the first few rows of the test set with predictions\n",
    "print(\"\\nTest Data with Predicted Ratings:\")\n",
    "print(test_data[['review_label', 'lr_predicted_rating', 'review_content']].head())"
   ]
  },
  {
   "cell_type": "code",
   "execution_count": 44,
   "metadata": {},
   "outputs": [
    {
     "name": "stdout",
     "output_type": "stream",
     "text": [
      "              precision    recall  f1-score   support\n",
      "\n",
      "           1       0.66      0.17      0.27      1091\n",
      "           2       0.48      0.74      0.58      3199\n",
      "           3       0.55      0.61      0.58      4257\n",
      "           4       0.37      0.17      0.23      1410\n",
      "           5       0.62      0.14      0.23       893\n",
      "\n",
      "    accuracy                           0.51     10850\n",
      "   macro avg       0.53      0.37      0.38     10850\n",
      "weighted avg       0.52      0.51      0.47     10850\n",
      "\n"
     ]
    }
   ],
   "source": [
    "print(classification_report(test_data['review_label'], test_data['lr_predicted_rating']))"
   ]
  },
  {
   "cell_type": "code",
   "execution_count": 45,
   "metadata": {},
   "outputs": [
    {
     "data": {
      "text/plain": [
       "Text(0.5, 23.52222222222222, 'Predicted Label')"
      ]
     },
     "execution_count": 45,
     "metadata": {},
     "output_type": "execute_result"
    },
    {
     "data": {
      "image/png": "[encoded data removed]",
      "text/plain": [
       "<Figure size 640x480 with 1 Axes>"
      ]
     },
     "metadata": {},
     "output_type": "display_data"
    }
   ],
   "source": [
    "sea.heatmap(pd.DataFrame(confusion_matrix(test_data['review_label'], test_data['lr_predicted_rating'])), annot=True, cmap=\"Purples\", fmt=\"d\", cbar=False, xticklabels=['1/5', '2/5', '3/5', '4/5', '5/5'], yticklabels=['1/5', '2/5', '3/5', '4/5', '5/5'])\n",
    "plt.ylabel('Actual Label')\n",
    "plt.xlabel('Predicted Label')\n"
   ]
  }
 ],
 "metadata": {
  "kernelspec": {
   "display_name": "Python 3",
   "language": "python",
   "name": "python3"
  },
  "language_info": {
   "codemirror_mode": {
    "name": "ipython",
    "version": 3
   },
   "file_extension": ".py",
   "mimetype": "text/x-python",
   "name": "python",
   "nbconvert_exporter": "python",
   "pygments_lexer": "ipython3",
   "version": "3.9.6"
  }
 },
 "nbformat": 4,
 "nbformat_minor": 2
}
