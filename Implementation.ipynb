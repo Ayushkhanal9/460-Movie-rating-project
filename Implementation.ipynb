{
 "cells": [
  {
   "cell_type": "code",
   "execution_count": null,
   "metadata": {},
   "outputs": [],
   "source": [
    "from csv import reader\n",
    "from random import seed\n",
    "from random import randrange\n",
    "from math import sqrt\n",
    "from math import exp\n",
    "from math import pi\n",
    "\n",
    "import pandas as pd\n",
    "\n",
    "movieReviews = pd.read_csv('', sep = '\\t', header = None, names = ['Review', 'Rating'])\n",
    "print (movieReviews.shape)\n",
    "movieReviews.head()"
   ]
  }
 ],
 "metadata": {
  "language_info": {
   "name": "python"
  },
  "orig_nbformat": 4
 },
 "nbformat": 4,
 "nbformat_minor": 2
}
