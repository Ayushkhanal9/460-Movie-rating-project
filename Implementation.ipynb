{
 "cells": [
  {
   "cell_type": "code",
   "execution_count": null,
   "metadata": {},
   "outputs": [],
   "source": [
    "from csv import reader\n",
    "from random import seed\n",
    "from random import randrange\n",
    "from math import sqrt\n",
    "from math import exp\n",
    "from math import pi\n",
    "\n",
    "import pandas as pd\n",
    "\n",
    "movieReviews = pd.read_csv('', sep = '\\t', header = None, names = ['review_score', 'review_content'])\n",
    "print (movieReviews.shape)\n",
    "movieReviews.head()\n",
    "\n",
    "# turn fractions into percentages\n",
    "\n",
    "movieReviews['review_score'] = movieReviews['review_score'].apply(lambda x: eval(x))\n",
    "movieReviews['review_score_percentage'] = movieReviews['review_score'] * 100\n",
    "\n",
    "bins = [0, 20, 40, 60, 80, 100]\n",
    "labels = [0, 1, 2, 3, 4, 5]\n",
    "\n",
    "# Create a new column 'review_label' based on the specified ranges\n",
    "movieReviews['review_label'] = pd.cut(movieReviews['review_score_percentage'], bins=bins, labels=labels, include_lowest=True)\n",
    "\n"
   ]
  }
 ],
 "metadata": {
  "language_info": {
   "name": "python"
  },
  "orig_nbformat": 4
 },
 "nbformat": 4,
 "nbformat_minor": 2
}
