{
 "cells": [
  {
   "cell_type": "code",
   "execution_count": 20,
   "metadata": {},
   "outputs": [],
   "source": [
    "#imports\n",
    "from csv import reader\n",
    "from random import seed\n",
    "from random import randrange\n",
    "from math import sqrt\n",
    "from math import exp\n",
    "from math import pi\n",
    "import nltk\n",
    "from nltk.tokenize import word_tokenize\n",
    "from nltk.corpus import stopwords\n",
    "from collections import Counter\n",
    "import sklearn\n",
    "from sklearn.feature_extraction.text import TfidfVectorizer\n",
    "from sklearn.naive_bayes import MultinomialNB\n",
    "from sklearn.pipeline import make_pipeline\n",
    "from sklearn.model_selection import train_test_split\n",
    "from sklearn.metrics import accuracy_score\n",
    "import pandas as pd\n",
    "from fractions import Fraction\n",
    "from io import StringIO\n",
    "\n"
   ]
  },
  {
   "cell_type": "code",
   "execution_count": 21,
   "metadata": {},
   "outputs": [
    {
     "name": "stdout",
     "output_type": "stream",
     "text": [
      "0\n",
      "(109542, 2)\n"
     ]
    },
    {
     "data": {
      "text/html": [
       "<div>\n",
       "<style scoped>\n",
       "    .dataframe tbody tr th:only-of-type {\n",
       "        vertical-align: middle;\n",
       "    }\n",
       "\n",
       "    .dataframe tbody tr th {\n",
       "        vertical-align: top;\n",
       "    }\n",
       "\n",
       "    .dataframe thead th {\n",
       "        text-align: right;\n",
       "    }\n",
       "</style>\n",
       "<table border=\"1\" class=\"dataframe\">\n",
       "  <thead>\n",
       "    <tr style=\"text-align: right;\">\n",
       "      <th></th>\n",
       "      <th>review_score</th>\n",
       "      <th>review_content</th>\n",
       "    </tr>\n",
       "  </thead>\n",
       "  <tbody>\n",
       "    <tr>\n",
       "      <th>2</th>\n",
       "      <td>3/5</td>\n",
       "      <td>Crammed with dragons, set-destroying fights an...</td>\n",
       "    </tr>\n",
       "    <tr>\n",
       "      <th>3</th>\n",
       "      <td>2/4</td>\n",
       "      <td>For what it is and for whom it is intended, it...</td>\n",
       "    </tr>\n",
       "    <tr>\n",
       "      <th>4</th>\n",
       "      <td>2/5</td>\n",
       "      <td>Chris Columbus returns to his comfort zone for...</td>\n",
       "    </tr>\n",
       "    <tr>\n",
       "      <th>5</th>\n",
       "      <td>2/5</td>\n",
       "      <td>Although the standard allegorical bases for my...</td>\n",
       "    </tr>\n",
       "    <tr>\n",
       "      <th>6</th>\n",
       "      <td>3/5</td>\n",
       "      <td>You don't even have to be familiar with the fi...</td>\n",
       "    </tr>\n",
       "  </tbody>\n",
       "</table>\n",
       "</div>"
      ],
      "text/plain": [
       "  review_score                                     review_content\n",
       "2          3/5  Crammed with dragons, set-destroying fights an...\n",
       "3          2/4  For what it is and for whom it is intended, it...\n",
       "4          2/5  Chris Columbus returns to his comfort zone for...\n",
       "5          2/5  Although the standard allegorical bases for my...\n",
       "6          3/5  You don't even have to be familiar with the fi..."
      ]
     },
     "execution_count": 21,
     "metadata": {},
     "output_type": "execute_result"
    }
   ],
   "source": [
    "movieReviews = pd.read_csv('cleaned_reviews.csv', sep = ',', header = None, names = ['review_score', 'review_content'])\n",
    "movieReviews = movieReviews[~movieReviews['review_score'].str.contains('\\.')]\n",
    "print(movieReviews['review_content'].isnull().sum())\n",
    "movieReviews = movieReviews.drop(0)\n",
    "print (movieReviews.shape)\n",
    "movieReviews.head()\n",
    "\n"
   ]
  },
  {
   "cell_type": "code",
   "execution_count": 22,
   "metadata": {},
   "outputs": [
    {
     "data": {
      "text/html": [
       "<div>\n",
       "<style scoped>\n",
       "    .dataframe tbody tr th:only-of-type {\n",
       "        vertical-align: middle;\n",
       "    }\n",
       "\n",
       "    .dataframe tbody tr th {\n",
       "        vertical-align: top;\n",
       "    }\n",
       "\n",
       "    .dataframe thead th {\n",
       "        text-align: right;\n",
       "    }\n",
       "</style>\n",
       "<table border=\"1\" class=\"dataframe\">\n",
       "  <thead>\n",
       "    <tr style=\"text-align: right;\">\n",
       "      <th></th>\n",
       "      <th>review_score</th>\n",
       "      <th>review_content</th>\n",
       "      <th>review_score_percentage</th>\n",
       "    </tr>\n",
       "  </thead>\n",
       "  <tbody>\n",
       "    <tr>\n",
       "      <th>2</th>\n",
       "      <td>3/5</td>\n",
       "      <td>Crammed with dragons, set-destroying fights an...</td>\n",
       "      <td>60</td>\n",
       "    </tr>\n",
       "    <tr>\n",
       "      <th>3</th>\n",
       "      <td>1/2</td>\n",
       "      <td>For what it is and for whom it is intended, it...</td>\n",
       "      <td>50</td>\n",
       "    </tr>\n",
       "    <tr>\n",
       "      <th>4</th>\n",
       "      <td>2/5</td>\n",
       "      <td>Chris Columbus returns to his comfort zone for...</td>\n",
       "      <td>40</td>\n",
       "    </tr>\n",
       "    <tr>\n",
       "      <th>5</th>\n",
       "      <td>2/5</td>\n",
       "      <td>Although the standard allegorical bases for my...</td>\n",
       "      <td>40</td>\n",
       "    </tr>\n",
       "    <tr>\n",
       "      <th>6</th>\n",
       "      <td>3/5</td>\n",
       "      <td>You don't even have to be familiar with the fi...</td>\n",
       "      <td>60</td>\n",
       "    </tr>\n",
       "  </tbody>\n",
       "</table>\n",
       "</div>"
      ],
      "text/plain": [
       "  review_score                                     review_content  \\\n",
       "2          3/5  Crammed with dragons, set-destroying fights an...   \n",
       "3          1/2  For what it is and for whom it is intended, it...   \n",
       "4          2/5  Chris Columbus returns to his comfort zone for...   \n",
       "5          2/5  Although the standard allegorical bases for my...   \n",
       "6          3/5  You don't even have to be familiar with the fi...   \n",
       "\n",
       "  review_score_percentage  \n",
       "2                      60  \n",
       "3                      50  \n",
       "4                      40  \n",
       "5                      40  \n",
       "6                      60  "
      ]
     },
     "execution_count": 22,
     "metadata": {},
     "output_type": "execute_result"
    }
   ],
   "source": [
    "# turn fractions into percentages\n",
    "\n",
    "# Convert decimal strings to fractions\n",
    "movieReviews['review_score'] = movieReviews['review_score'].apply(lambda x: Fraction(x))\n",
    "\n",
    "# Convert fractions to percentages\n",
    "movieReviews['review_score_percentage'] = movieReviews['review_score'] * 100\n",
    "\n",
    "movieReviews.head()"
   ]
  },
  {
   "cell_type": "code",
   "execution_count": 23,
   "metadata": {},
   "outputs": [
    {
     "name": "stderr",
     "output_type": "stream",
     "text": [
      "[nltk_data] Downloading package punkt to\n",
      "[nltk_data]     /Users/sydneychapman/nltk_data...\n",
      "[nltk_data]   Package punkt is already up-to-date!\n"
     ]
    },
    {
     "data": {
      "text/plain": [
       "True"
      ]
     },
     "execution_count": 23,
     "metadata": {},
     "output_type": "execute_result"
    }
   ],
   "source": [
    "# Define bins and labels\n",
    "bins = [0, 19, 39, 59, 79, 100]\n",
    "labels = [1, 2, 3, 4, 5]\n",
    "\n",
    "# Create a new column 'review_label' based on the specified ranges\n",
    "movieReviews['review_label'] = pd.cut(movieReviews['review_score_percentage'], bins=bins, labels=labels, include_lowest=True)\n",
    "\n",
    "\n",
    "movieReviews.head()\n",
    "\n",
    "nltk.download('punkt')"
   ]
  },
  {
   "cell_type": "code",
   "execution_count": 24,
   "metadata": {},
   "outputs": [
    {
     "name": "stdout",
     "output_type": "stream",
     "text": [
      "Training Data Label Distribution:\n",
      "review_label\n",
      "4    0.394028\n",
      "3    0.289705\n",
      "5    0.207651\n",
      "2    0.098588\n",
      "1    0.010028\n",
      "Name: proportion, dtype: float64\n",
      "\n",
      "Test Data Label Distribution:\n",
      "review_label\n",
      "4    0.388732\n",
      "3    0.292119\n",
      "5    0.210300\n",
      "2    0.099626\n",
      "1    0.009223\n",
      "Name: proportion, dtype: float64\n"
     ]
    }
   ],
   "source": [
    "#finding the top 50 words for each rating\n",
    "\n",
    "# Function to preprocess text (tokenization, lowercase, and removing stopwords)\n",
    "def preprocess_text(text):\n",
    "    stop_words = set(stopwords.words('english'))\n",
    "    words = word_tokenize(text)\n",
    "    words = [word.lower() for word in words if word.isalpha() and word.lower() not in stop_words]\n",
    "    return words\n",
    "\n",
    "train_data, test_data = train_test_split(movieReviews, test_size=0.1, random_state=42)\n",
    "\n",
    "# Display label distribution in training and test sets\n",
    "print(\"Training Data Label Distribution:\")\n",
    "print(train_data['review_label'].value_counts(normalize=True))\n",
    "\n",
    "print(\"\\nTest Data Label Distribution:\")\n",
    "print(test_data['review_label'].value_counts(normalize=True))\n",
    "\n",
    "# Get rid of punctuation and convert text to lowercase\n",
    "def preprocess_text(text):\n",
    "    text = text.str.replace('\\W', ' ')  # Removes punctuation\n",
    "    text = text.str.lower()  # Converts text to lowercase\n",
    "    return text\n",
    "\n",
    "train_data['review_content'] = preprocess_text(train_data['review_content'])\n",
    "test_data['review_content'] = preprocess_text(test_data['review_content'])\n",
    "\n",
    "# Tokenize and build vocabulary\n",
    "all_words = ' '.join(train_data['review_content'])\n",
    "all_words = word_tokenize(all_words)\n",
    "vocabulary = set(all_words)\n"
   ]
  },
  {
   "cell_type": "code",
   "execution_count": 25,
   "metadata": {},
   "outputs": [],
   "source": [
    "from collections import Counter\n",
    "#Naive Bayes implementation\n",
    "\n",
    "# Naive Bayes parameters\n",
    "alpha = .06\n",
    "\n",
    "# Initiate parameters\n",
    "parameters_per_rating = {rating: Counter() for rating in range(1, 6)}\n",
    "\n",
    "# Calculate parameters\n",
    "for rating in range(1, 6):\n",
    "    rating_data = train_data[train_data['review_label'] == rating]['review_content']\n",
    "    n_rating = len(rating_data)\n",
    "    \n",
    "    # Count occurrences of each word in the entire column\n",
    "    word_counts = Counter(' '.join(rating_data).split())\n",
    "    \n",
    "    for word in vocabulary:\n",
    "        n_word_given_rating = word_counts[word]\n",
    "        p_word_given_rating = (n_word_given_rating + alpha) / (n_rating + alpha * len(vocabulary))\n",
    "        parameters_per_rating[rating][word] = p_word_given_rating"
   ]
  },
  {
   "cell_type": "code",
   "execution_count": 26,
   "metadata": {},
   "outputs": [
    {
     "name": "stdout",
     "output_type": "stream",
     "text": [
      "\n",
      "Accuracy on the test set: 52.55%\n",
      "\n",
      "Test Data with Predicted Ratings:\n",
      "       review_label  predicted_rating  \\\n",
      "95678             1                 3   \n",
      "12419             4                 3   \n",
      "111736            4                 4   \n",
      "144623            4                 3   \n",
      "105747            4                 3   \n",
      "\n",
      "                                           review_content  \n",
      "95678   this spaceship misfire manages to be overblown...  \n",
      "12419   call it quirky or observational or shaggy, but...  \n",
      "111736  there will never be another marilyn monroe or ...  \n",
      "144623  is it a pointed cultural take or just a gleefu...  \n",
      "105747  the twist itself particularly original. the wa...  \n"
     ]
    }
   ],
   "source": [
    "#classifier \n",
    "# Naive Bayes classifier\n",
    "def predict_rating(review, parameters, n_rating):\n",
    "    words = word_tokenize(review)\n",
    "    \n",
    "    # Initialize probabilities with prior probabilities\n",
    "    probabilities = {rating: 1 for rating in parameters.keys()}\n",
    "    \n",
    "    for word in words:\n",
    "        for rating, word_params in parameters.items():\n",
    "            p_word_given_rating = word_params.get(word, 1 / (n_rating + alpha * len(vocabulary)))\n",
    "            probabilities[rating] *= p_word_given_rating\n",
    "    \n",
    "    # Choose the rating with the highest probability\n",
    "    predicted_rating = max(probabilities, key=probabilities.get)\n",
    "    return predicted_rating\n",
    "\n",
    "# Predict ratings on the test set\n",
    "test_data['predicted_rating'] = test_data['review_content'].apply(lambda x: predict_rating(x, parameters_per_rating, len(train_data)))\n",
    "\n",
    "# Remove rows with NaN values in 'review_label'\n",
    "test_data = test_data.dropna(subset=['review_label', 'predicted_rating'])\n",
    "\n",
    "# Evaluate the accuracy\n",
    "accuracy = accuracy_score(test_data['review_label'], test_data['predicted_rating'])\n",
    "print(f\"\\nAccuracy on the test set: {accuracy:.2%}\")\n",
    "\n",
    "# Display the first few rows of the test set with predictions\n",
    "print(\"\\nTest Data with Predicted Ratings:\")\n",
    "print(test_data[['review_label', 'predicted_rating', 'review_content']].head())\n"
   ]
  },
  {
   "cell_type": "code",
   "execution_count": 27,
   "metadata": {},
   "outputs": [
    {
     "name": "stdout",
     "output_type": "stream",
     "text": [
      "Predicted Rating: 4\n"
     ]
    }
   ],
   "source": [
    "#testing a classifier\n",
    "import re\n",
    "\n",
    "def classify_movie_review_rating(review):\n",
    "    '''\n",
    "    review: a string\n",
    "    '''\n",
    "    review = re.sub('\\W', ' ', review)\n",
    "    review = review.lower().split()\n",
    "\n",
    "    probabilities = {rating: 1 for rating in range(1, 6)}  # Assuming ratings are 1 to 5\n",
    "\n",
    "    for word in review:\n",
    "        for rating, word_params in parameters_per_rating.items():\n",
    "            p_word_given_rating = word_params.get(word, alpha / (n_rating + alpha * len(vocabulary)))\n",
    "            probabilities[rating] *= p_word_given_rating\n",
    "\n",
    "    # Choose the rating with the highest probability\n",
    "    predicted_rating = max(probabilities, key=probabilities.get)\n",
    "    \n",
    "    return predicted_rating\n",
    "\n",
    "# Example usage with a movie review\n",
    "example_review = \"This movie was amazing! I loved it.\"\n",
    "predicted_rating = classify_movie_review_rating(example_review)\n",
    "print('Predicted Rating:', predicted_rating)"
   ]
  }
 ],
 "metadata": {
  "kernelspec": {
   "display_name": "Python 3.9.7 64-bit ('anaconda3')",
   "language": "python",
   "name": "python3"
  },
  "language_info": {
   "codemirror_mode": {
    "name": "ipython",
    "version": 3
   },
   "file_extension": ".py",
   "mimetype": "text/x-python",
   "name": "python",
   "nbconvert_exporter": "python",
   "pygments_lexer": "ipython3",
   "version": "3.9.6"
  },
  "orig_nbformat": 4,
  "vscode": {
   "interpreter": {
    "hash": "0ece4465a08f69491abc0e89a8acae8a5cbd3fdd81535f85054181bb0ae7c3e6"
   }
  }
 },
 "nbformat": 4,
 "nbformat_minor": 2
}
