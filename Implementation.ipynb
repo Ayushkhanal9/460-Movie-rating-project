{
 "cells": [
  {
   "cell_type": "code",
   "execution_count": null,
   "metadata": {},
   "outputs": [],
   "source": [
    "from csv import reader\n",
    "from random import seed\n",
    "from random import randrange\n",
    "from math import sqrt\n",
    "from math import exp\n",
    "from math import pi\n",
    "from nltk.tokenize import word_tokenize\n",
    "from nltk.corpus import stopwords\n",
    "from collections import Counter\n",
    "\n",
    "import pandas as pd\n",
    "\n",
    "movieReviews = pd.read_csv('', sep = '\\t', header = None, names = ['review_score', 'review_content'])\n",
    "print (movieReviews.shape)\n",
    "movieReviews.head()\n",
    "\n",
    "# turn fractions into percentages\n",
    "\n",
    "movieReviews['review_score'] = movieReviews['review_score'].apply(lambda x: eval(x))\n",
    "movieReviews['review_score_percentage'] = movieReviews['review_score'] * 100\n",
    "\n",
    "bins = [0, 20, 40, 60, 80, 100]\n",
    "labels = [0, 1, 2, 3, 4, 5]\n",
    "\n",
    "# Create a new column 'review_label' based on the specified ranges\n",
    "movieReviews['review_label'] = pd.cut(movieReviews['review_score_percentage'], bins=bins, labels=labels, include_lowest=True)\n",
    "\n"
   ]
  },
  {
   "cell_type": "code",
   "execution_count": null,
   "metadata": {},
   "outputs": [],
   "source": [
    "#finding the top 50 words for each rating\n",
    "\n",
    "# Function to preprocess text (tokenization, lowercase, and removing stopwords)\n",
    "def preprocess_text(text):\n",
    "    stop_words = set(stopwords.words('english'))\n",
    "    words = word_tokenize(text)\n",
    "    words = [word.lower() for word in words if word.isalpha() and word.lower() not in stop_words]\n",
    "    return words\n",
    "\n",
    "# Create a new column with preprocessed text\n",
    "movieReviews['processed_text'] = movieReviews['review_content'].apply(preprocess_text)\n",
    "\n",
    "# Create a Counter for each score\n",
    "score_counters = {}\n",
    "\n",
    "# Iterate over unique scores\n",
    "for score in range(6):\n",
    "    # Concatenate all processed_text lists for the current score\n",
    "    texts = movieReviews[movieReviews['review_label'] == score]['processed_text'].sum()\n",
    "    \n",
    "    # Create a Counter for the words in the concatenated texts\n",
    "    counter = Counter(texts)\n",
    "    \n",
    "    # Store the Counter in the dictionary\n",
    "    score_counters[score] = counter\n",
    "\n",
    "# Get the top 50 words for each score\n",
    "top_50_words_per_score = {score: counter.most_common(50) for score, counter in score_counters.items()}\n",
    "\n",
    "# Display the top 50 words for each score\n",
    "for score, top_words in top_50_words_per_score.items():\n",
    "    print(f'Top 50 words for score {score}:')\n",
    "    print(top_words)\n",
    "    print('\\n')"
   ]
  },
  {
   "cell_type": "code",
   "execution_count": null,
   "metadata": {},
   "outputs": [],
   "source": []
  }
 ],
 "metadata": {
  "kernelspec": {
   "display_name": "Python 3.9.7 64-bit ('anaconda3')",
   "language": "python",
   "name": "python3"
  },
  "language_info": {
   "name": "python",
   "version": "3.9.7"
  },
  "orig_nbformat": 4,
  "vscode": {
   "interpreter": {
    "hash": "0ece4465a08f69491abc0e89a8acae8a5cbd3fdd81535f85054181bb0ae7c3e6"
   }
  }
 },
 "nbformat": 4,
 "nbformat_minor": 2
}
